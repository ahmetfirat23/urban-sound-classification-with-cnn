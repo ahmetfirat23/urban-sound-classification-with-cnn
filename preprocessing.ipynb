{
 "cells": [
  {
   "cell_type": "code",
   "execution_count": 5,
   "metadata": {
    "pycharm": {
     "name": "#%%\n"
    }
   },
   "outputs": [],
   "source": [
    "import cv2 as cv\n",
    "import numpy as np\n",
    "import pandas as pd\n",
    "from IPython.display import clear_output"
   ]
  },
  {
   "cell_type": "code",
   "execution_count": 6,
   "metadata": {
    "pycharm": {
     "name": "#%%\n"
    }
   },
   "outputs": [
    {
     "data": {
      "text/plain": "'4.6.0'"
     },
     "execution_count": 6,
     "metadata": {},
     "output_type": "execute_result"
    }
   ],
   "source": [
    "cv.__version__"
   ]
  },
  {
   "cell_type": "code",
   "execution_count": 7,
   "outputs": [
    {
     "name": "stdout",
     "output_type": "stream",
     "text": [
      "Completed!\n"
     ]
    }
   ],
   "source": [
    "data = pd.read_csv('UrbanSound8K/metadata/UrbanSound8K.csv')\n",
    "total = len(data)\n",
    "count = 0\n",
    "for idx, row in data.iterrows():\n",
    "    clear_output(wait=True)\n",
    "    filename = row.slice_file_name[:-4]+'.png'\n",
    "    img = cv.imread('images/{0}/{1}'.format(row.fold, filename))\n",
    "    gray = cv.cvtColor(img, cv.COLOR_BGR2GRAY)\n",
    "    equalized = cv.equalizeHist(gray)\n",
    "    resized = cv.resize(equalized, (equalized.shape[1]//2,equalized.shape[0]//2))\n",
    "    cv.imwrite('data/{0}/{1}'.format(row.fold,filename), resized)\n",
    "    count+=1\n",
    "    print('Completion: {:.2f}%'.format(count/total*100))\n",
    "clear_output()\n",
    "print('Completed!')\n"
   ],
   "metadata": {
    "collapsed": false,
    "pycharm": {
     "name": "#%%\n"
    }
   }
  }
 ],
 "metadata": {
  "kernelspec": {
   "display_name": "Python 3",
   "language": "python",
   "name": "python3"
  },
  "language_info": {
   "codemirror_mode": {
    "name": "ipython",
    "version": 3
   },
   "file_extension": ".py",
   "mimetype": "text/x-python",
   "name": "python",
   "nbconvert_exporter": "python",
   "pygments_lexer": "ipython3",
   "version": "3.9.4"
  }
 },
 "nbformat": 4,
 "nbformat_minor": 1
}